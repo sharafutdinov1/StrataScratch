Find the 3 most profitable companies in the entire world.
Output the result along with the corresponding company name.
Sort the result based on profits in descending order.

forbes_global_2010_2014[['company', 'profits']].sort_values(by = 'profits', ascending=False).head(3)
